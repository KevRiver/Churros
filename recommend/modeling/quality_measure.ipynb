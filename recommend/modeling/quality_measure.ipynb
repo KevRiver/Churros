{
 "cells": [
  {
   "cell_type": "code",
   "execution_count": 1,
   "metadata": {},
   "outputs": [],
   "source": [
    "from pymongo import MongoClient\n",
    "import pandas as pd\n",
    "# from dotenv import load_dotenv\n",
    "\n",
    "# load_dotenv(verbose=True,dotenv_path='./env')\n",
    "\n",
    "# mongoDB 설정\n",
    "mongo_host = \"localhost\"\n",
    "mongo_port = 27020\n",
    "mongo_user = \"churros\"\n",
    "mongo_passwd = \"A503\"\n",
    "mongo_db_name = \"newsdb\"\n",
    "mongo_client = MongoClient(host=mongo_host, port=mongo_port, username=mongo_user, password=mongo_passwd)\n",
    "\n",
    "\n",
    "db = mongo_client[mongo_db_name]\n",
    "collection = db['newsCol']\n",
    "tokencollection = db['newsToken'] # token collection"
   ]
  },
  {
   "cell_type": "code",
   "execution_count": 2,
   "metadata": {},
   "outputs": [],
   "source": [
    "data = list(collection.find())\n",
    "df = pd.DataFrame(data)"
   ]
  },
  {
   "cell_type": "code",
   "execution_count": null,
   "metadata": {},
   "outputs": [],
   "source": [
    "## quality 만들어주는 함수\n",
    "def get_quality(row):\n",
    "    if len(row['full_text']) < 50 or (len(row['full_text']) > 50 and len(row['full_text']) < 200 and not row['img_src']):\n",
    "        return 0\n",
    "    else:\n",
    "        return 1\n",
    "\n",
    "df['quality'] = df.apply(get_quality, axis=1)"
   ]
  },
  {
   "cell_type": "markdown",
   "metadata": {},
   "source": [
    "## Quality Measurement\n",
    "- 제목길이, 본문길이, 기자 정보(skip), 섹션 정보, 콘텐츠 타입 정보(skip), 이미지 여부 -> feature로 활용\n",
    "- 추가적인 feature를 생성해도 될듯 (단어 갯수, 기타 등등...)\n",
    "- 위의 features 활용하여 기사의 quality 측정\n",
    "- 우선은 다중 회귀 활용 예정"
   ]
  },
  {
   "cell_type": "code",
   "execution_count": 4,
   "metadata": {},
   "outputs": [
    {
     "ename": "KeyError",
     "evalue": "'quality'",
     "output_type": "error",
     "traceback": [
      "\u001b[1;31m---------------------------------------------------------------------------\u001b[0m",
      "\u001b[1;31mKeyError\u001b[0m                                  Traceback (most recent call last)",
      "File \u001b[1;32mc:\\Coding\\S08P22A503\\venv\\lib\\site-packages\\pandas\\core\\indexes\\base.py:3802\u001b[0m, in \u001b[0;36mIndex.get_loc\u001b[1;34m(self, key, method, tolerance)\u001b[0m\n\u001b[0;32m   3801\u001b[0m \u001b[39mtry\u001b[39;00m:\n\u001b[1;32m-> 3802\u001b[0m     \u001b[39mreturn\u001b[39;00m \u001b[39mself\u001b[39;49m\u001b[39m.\u001b[39;49m_engine\u001b[39m.\u001b[39;49mget_loc(casted_key)\n\u001b[0;32m   3803\u001b[0m \u001b[39mexcept\u001b[39;00m \u001b[39mKeyError\u001b[39;00m \u001b[39mas\u001b[39;00m err:\n",
      "File \u001b[1;32mc:\\Coding\\S08P22A503\\venv\\lib\\site-packages\\pandas\\_libs\\index.pyx:138\u001b[0m, in \u001b[0;36mpandas._libs.index.IndexEngine.get_loc\u001b[1;34m()\u001b[0m\n",
      "File \u001b[1;32mc:\\Coding\\S08P22A503\\venv\\lib\\site-packages\\pandas\\_libs\\index.pyx:165\u001b[0m, in \u001b[0;36mpandas._libs.index.IndexEngine.get_loc\u001b[1;34m()\u001b[0m\n",
      "File \u001b[1;32mpandas\\_libs\\hashtable_class_helper.pxi:5745\u001b[0m, in \u001b[0;36mpandas._libs.hashtable.PyObjectHashTable.get_item\u001b[1;34m()\u001b[0m\n",
      "File \u001b[1;32mpandas\\_libs\\hashtable_class_helper.pxi:5753\u001b[0m, in \u001b[0;36mpandas._libs.hashtable.PyObjectHashTable.get_item\u001b[1;34m()\u001b[0m\n",
      "\u001b[1;31mKeyError\u001b[0m: 'quality'",
      "\nThe above exception was the direct cause of the following exception:\n",
      "\u001b[1;31mKeyError\u001b[0m                                  Traceback (most recent call last)",
      "Cell \u001b[1;32mIn[4], line 21\u001b[0m\n\u001b[0;32m     19\u001b[0m x \u001b[39m=\u001b[39m df_quality\u001b[39m.\u001b[39miloc[:,:\u001b[39m-\u001b[39m\u001b[39m1\u001b[39m]\n\u001b[0;32m     20\u001b[0m \u001b[39m# 값의 경우 labeling 이 진행되어야 한다\u001b[39;00m\n\u001b[1;32m---> 21\u001b[0m y \u001b[39m=\u001b[39m df_raw[\u001b[39m'\u001b[39;49m\u001b[39mquality\u001b[39;49m\u001b[39m'\u001b[39;49m]\n\u001b[0;32m     22\u001b[0m \u001b[39mprint\u001b[39m(df_quality\u001b[39m.\u001b[39minfo())\n",
      "File \u001b[1;32mc:\\Coding\\S08P22A503\\venv\\lib\\site-packages\\pandas\\core\\frame.py:3807\u001b[0m, in \u001b[0;36mDataFrame.__getitem__\u001b[1;34m(self, key)\u001b[0m\n\u001b[0;32m   3805\u001b[0m \u001b[39mif\u001b[39;00m \u001b[39mself\u001b[39m\u001b[39m.\u001b[39mcolumns\u001b[39m.\u001b[39mnlevels \u001b[39m>\u001b[39m \u001b[39m1\u001b[39m:\n\u001b[0;32m   3806\u001b[0m     \u001b[39mreturn\u001b[39;00m \u001b[39mself\u001b[39m\u001b[39m.\u001b[39m_getitem_multilevel(key)\n\u001b[1;32m-> 3807\u001b[0m indexer \u001b[39m=\u001b[39m \u001b[39mself\u001b[39;49m\u001b[39m.\u001b[39;49mcolumns\u001b[39m.\u001b[39;49mget_loc(key)\n\u001b[0;32m   3808\u001b[0m \u001b[39mif\u001b[39;00m is_integer(indexer):\n\u001b[0;32m   3809\u001b[0m     indexer \u001b[39m=\u001b[39m [indexer]\n",
      "File \u001b[1;32mc:\\Coding\\S08P22A503\\venv\\lib\\site-packages\\pandas\\core\\indexes\\base.py:3804\u001b[0m, in \u001b[0;36mIndex.get_loc\u001b[1;34m(self, key, method, tolerance)\u001b[0m\n\u001b[0;32m   3802\u001b[0m     \u001b[39mreturn\u001b[39;00m \u001b[39mself\u001b[39m\u001b[39m.\u001b[39m_engine\u001b[39m.\u001b[39mget_loc(casted_key)\n\u001b[0;32m   3803\u001b[0m \u001b[39mexcept\u001b[39;00m \u001b[39mKeyError\u001b[39;00m \u001b[39mas\u001b[39;00m err:\n\u001b[1;32m-> 3804\u001b[0m     \u001b[39mraise\u001b[39;00m \u001b[39mKeyError\u001b[39;00m(key) \u001b[39mfrom\u001b[39;00m \u001b[39merr\u001b[39;00m\n\u001b[0;32m   3805\u001b[0m \u001b[39mexcept\u001b[39;00m \u001b[39mTypeError\u001b[39;00m:\n\u001b[0;32m   3806\u001b[0m     \u001b[39m# If we have a listlike key, _check_indexing_error will raise\u001b[39;00m\n\u001b[0;32m   3807\u001b[0m     \u001b[39m#  InvalidIndexError. Otherwise we fall through and re-raise\u001b[39;00m\n\u001b[0;32m   3808\u001b[0m     \u001b[39m#  the TypeError.\u001b[39;00m\n\u001b[0;32m   3809\u001b[0m     \u001b[39mself\u001b[39m\u001b[39m.\u001b[39m_check_indexing_error(key)\n",
      "\u001b[1;31mKeyError\u001b[0m: 'quality'"
     ]
    }
   ],
   "source": [
    "df_raw = pd.DataFrame(data)\n",
    "df = df_raw\n",
    "# 제목 길이 변수\n",
    "df['title_len'] = df['title'].apply(len)\n",
    "# 본문 길이 변수\n",
    "df['full_text'] = df['full_text'].apply(str)\n",
    "df['full_text_len'] = df['full_text'].apply(len)\n",
    "# 언론사 정보???\n",
    "# 카테고리 정보 (one hot encoding)\n",
    "category_dummies = pd.get_dummies(df['cat1'])\n",
    "df = pd.concat([df, category_dummies], axis=1)\n",
    "category_dummies2 = pd.get_dummies(df['cat2'])\n",
    "df = pd.concat([df, category_dummies2], axis=1)\n",
    "# 콘텐츠 타입 정보? pass\n",
    "\n",
    "# 이미지 여부(boolean)\n",
    "df['img'] = df['img_src'].apply(lambda x: 1 if x != \"\" else 0)\n",
    "df_quality = df.iloc[:,12:]\n",
    "x = df_quality.iloc[:,:-1]\n",
    "# 값의 경우 labeling 이 진행되어야 한다\n",
    "y = df['quality']\n",
    "print(df_quality.info())"
   ]
  },
  {
   "cell_type": "code",
   "execution_count": null,
   "metadata": {},
   "outputs": [
    {
     "name": "stdout",
     "output_type": "stream",
     "text": [
      "0.029603314303728312\n"
     ]
    }
   ],
   "source": [
    "# 다중 회귀 분석\n",
    "from sklearn.model_selection import train_test_split\n",
    "from sklearn.linear_model import LinearRegression\n",
    "x_train, x_test, y_train, y_test = train_test_split(x, y, train_size=0.8, test_size=0.2)\n",
    "mlr = LinearRegression()\n",
    "mlr.fit(x_train, y_train)\n",
    "print(mlr.score(x_train, y_train))\n",
    "# 이제 mlr.predict(features) 에 값을 넣으면 결과값이 나온다\n",
    "# 이 결과값을 기준으로 특정 점수 이하일 경우 분석에서 제외 또는 출력에서 제외"
   ]
  },
  {
   "cell_type": "code",
   "execution_count": null,
   "metadata": {},
   "outputs": [
    {
     "data": {
      "text/plain": [
       "array([0.56582092, 0.50240706, 0.72315107])"
      ]
     },
     "metadata": {},
     "output_type": "display_data"
    }
   ],
   "source": [
    "y_predict = mlr.predict(x_test)\n",
    "y_predict"
   ]
  },
  {
   "cell_type": "code",
   "execution_count": null,
   "metadata": {},
   "outputs": [
    {
     "data": {
      "image/png": "[encoded data removed]",
      "text/plain": [
       "<Figure size 640x480 with 1 Axes>"
      ]
     },
     "metadata": {},
     "output_type": "display_data"
    }
   ],
   "source": [
    "import matplotlib.pyplot as plt\n",
    "plt.scatter(y_test, y_predict, alpha=0.4)\n",
    "plt.xlabel(\"Actual Quality\")\n",
    "plt.ylabel(\"Predicted Quality\")\n",
    "plt.title(\"MULTIPLE LINEAR REGRESSION\")\n",
    "plt.show()"
   ]
  }
 ],
 "metadata": {
  "kernelspec": {
   "display_name": "venv",
   "language": "python",
   "name": "python3"
  },
  "language_info": {
   "codemirror_mode": {
    "name": "ipython",
    "version": 3
   },
   "file_extension": ".py",
   "mimetype": "text/x-python",
   "name": "python",
   "nbconvert_exporter": "python",
   "pygments_lexer": "ipython3",
   "version": "3.9.13"
  },
  "orig_nbformat": 4
 },
 "nbformat": 4,
 "nbformat_minor": 2
}
